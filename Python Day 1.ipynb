{
 "cells": [
  {
   "cell_type": "code",
   "execution_count": 3,
   "id": "96387708",
   "metadata": {},
   "outputs": [
    {
     "name": "stdout",
     "output_type": "stream",
     "text": [
      "<class 'int'>\n",
      "10\n"
     ]
    }
   ],
   "source": [
    "a=10\n",
    "print(type(a))\n",
    "print(a)"
   ]
  },
  {
   "cell_type": "code",
   "execution_count": 12,
   "id": "13c6c49f",
   "metadata": {},
   "outputs": [
    {
     "name": "stdout",
     "output_type": "stream",
     "text": [
      "<class 'str'>\n",
      "<class 'str'>\n",
      "<class 'str'>\n",
      "example\n",
      "of\n",
      "multiline\n",
      "string\n"
     ]
    }
   ],
   "source": [
    "st=\"Example\"\n",
    "print(type(st))\n",
    "st='example2'\n",
    "print(type(st))\n",
    "st='''example\n",
    "of\n",
    "multiline\n",
    "string'''\n",
    "print(type(st))\n",
    "print(st)"
   ]
  },
  {
   "cell_type": "code",
   "execution_count": 15,
   "id": "0bfe3215",
   "metadata": {},
   "outputs": [
    {
     "name": "stdout",
     "output_type": "stream",
     "text": [
      "<class 'bool'>\n",
      "True\n",
      "False\n"
     ]
    }
   ],
   "source": [
    "w=True\n",
    "print(type(w))\n",
    "print(w)\n",
    "w=30<20\n",
    "print(w)"
   ]
  },
  {
   "cell_type": "code",
   "execution_count": 16,
   "id": "9d6906db",
   "metadata": {},
   "outputs": [
    {
     "name": "stdout",
     "output_type": "stream",
     "text": [
      "2\n"
     ]
    }
   ],
   "source": [
    "print(True+True)"
   ]
  },
  {
   "cell_type": "code",
   "execution_count": 18,
   "id": "4f151467",
   "metadata": {},
   "outputs": [
    {
     "name": "stdout",
     "output_type": "stream",
     "text": [
      "1\n",
      "-1\n"
     ]
    }
   ],
   "source": [
    "print(True-False)\n",
    "print(False-True)"
   ]
  },
  {
   "cell_type": "code",
   "execution_count": 21,
   "id": "f9f75af0",
   "metadata": {},
   "outputs": [
    {
     "data": {
      "text/plain": [
       "complex"
      ]
     },
     "execution_count": 21,
     "metadata": {},
     "output_type": "execute_result"
    }
   ],
   "source": [
    "life= 1-2j\n",
    "type(life)"
   ]
  },
  {
   "cell_type": "code",
   "execution_count": 26,
   "id": "2621d486",
   "metadata": {},
   "outputs": [
    {
     "name": "stdout",
     "output_type": "stream",
     "text": [
      "8885288\n"
     ]
    }
   ],
   "source": [
    "# Fundamental data types are immutable\n",
    "a=10\n",
    "print(id(a))"
   ]
  },
  {
   "cell_type": "code",
   "execution_count": 27,
   "id": "67b0aae2",
   "metadata": {},
   "outputs": [
    {
     "name": "stdout",
     "output_type": "stream",
     "text": [
      "8885288\n",
      "8885608\n"
     ]
    }
   ],
   "source": [
    "b=10\n",
    "print(id(b))\n",
    "a=20\n",
    "print(id(a))"
   ]
  },
  {
   "cell_type": "code",
   "execution_count": 33,
   "id": "b87ec097",
   "metadata": {},
   "outputs": [
    {
     "name": "stdout",
     "output_type": "stream",
     "text": [
      "n\n",
      " \n",
      "E\n",
      "Dat\n"
     ]
    }
   ],
   "source": [
    "# Indexing and Slicing\n",
    "s=\"Data Engineering\"\n",
    "print(s[-2])\n",
    "print(s[4])\n",
    "print(s[5])\n",
    "print(s[0:3])\n",
    "# syntax: s[start:end-1]\n"
   ]
  },
  {
   "cell_type": "code",
   "execution_count": 42,
   "id": "1f54a6f0",
   "metadata": {},
   "outputs": [
    {
     "name": "stdout",
     "output_type": "stream",
     "text": [
      "mno\n",
      "xyz\n",
      "abcdefghijklmn\n",
      "defghijklmnopqrstuvwxyz\n"
     ]
    }
   ],
   "source": [
    "s=\"abcdefghijklmnopqrstuvwxyz\"\n",
    "# needed output: mno\n",
    "print(s[12:15])\n",
    "# needed output: xyz\n",
    "print(s[-3:])\n",
    "# needed output a to n\n",
    "print(s[:14])\n",
    "# out of bound index\n",
    "print(s[3:1000])"
   ]
  },
  {
   "cell_type": "code",
   "execution_count": 51,
   "id": "e1d4946e",
   "metadata": {},
   "outputs": [
    {
     "name": "stdout",
     "output_type": "stream",
     "text": [
      "50\n",
      "10\n",
      "600\n",
      "1.5\n",
      "1\n",
      "10\n",
      "348678440100000000000000000000\n"
     ]
    }
   ],
   "source": [
    "# Python Operators\n",
    "# Arithmetic\n",
    "# Relational\n",
    "# Logical\n",
    "\n",
    "a=30\n",
    "b=20\n",
    "print(a+b)\n",
    "print(a-b)\n",
    "print(a*b)\n",
    "print(a/b)\n",
    "print(a//b)\n",
    "print(a%b)\n",
    "print(a**b)"
   ]
  },
  {
   "cell_type": "code",
   "execution_count": 54,
   "id": "d6358036",
   "metadata": {},
   "outputs": [
    {
     "name": "stdout",
     "output_type": "stream",
     "text": [
      "True\n",
      "False\n",
      "False\n"
     ]
    }
   ],
   "source": [
    "print(a>b)\n",
    "print(a<b)\n",
    "print(a==b)"
   ]
  },
  {
   "cell_type": "code",
   "execution_count": 57,
   "id": "b0851941",
   "metadata": {},
   "outputs": [
    {
     "name": "stdout",
     "output_type": "stream",
     "text": [
      "False\n",
      "True\n",
      "False\n",
      "False\n",
      "True\n",
      "True\n"
     ]
    }
   ],
   "source": [
    "a=True\n",
    "b=False\n",
    "print(a and b)\n",
    "print(a or b)\n",
    "a=False\n",
    "b=False\n",
    "print(a and b)\n",
    "print(a or b)\n",
    "a=True\n",
    "b=True\n",
    "print(a and b)\n",
    "print(a or b)\n",
    "\n"
   ]
  },
  {
   "cell_type": "code",
   "execution_count": 58,
   "id": "c392ae41",
   "metadata": {},
   "outputs": [],
   "source": [
    "is_geological_survey_complete = True\n",
    "is_environmental_clearance_received = True\n",
    "is_market_demand_high = False"
   ]
  },
  {
   "cell_type": "code",
   "execution_count": null,
   "id": "59de7edd",
   "metadata": {},
   "outputs": [],
   "source": [
    "should_start_drilling = is_geological_survey_complete and is_environmental_clearance_received and is_market_demand_high"
   ]
  },
  {
   "cell_type": "code",
   "execution_count": 59,
   "id": "3dd14a18",
   "metadata": {},
   "outputs": [
    {
     "name": "stdout",
     "output_type": "stream",
     "text": [
      "False\n"
     ]
    }
   ],
   "source": [
    "print(should_start_drilling)"
   ]
  },
  {
   "cell_type": "code",
   "execution_count": 60,
   "id": "347e6da9",
   "metadata": {},
   "outputs": [
    {
     "name": "stdout",
     "output_type": "stream",
     "text": [
      "True True\n"
     ]
    }
   ],
   "source": [
    "# Boolean Variables\n",
    "HasExplorationPermit = True\n",
    "HasDrillingRights = True\n",
    "HasEnvironmentalApproval = False\n",
    "HasOilDiscovery = True\n",
    "\n",
    " \n",
    "\n",
    "# Logical Operations\n",
    "IsExplorationAllowed = HasExplorationPermit and HasDrillingRights and not HasEnvironmentalApproval\n",
    "IsDiscoveryProfitable = HasOilDiscovery and (HasExplorationPermit or HasDrillingRights)\n",
    "print(IsExplorationAllowed,IsDiscoveryProfitable)"
   ]
  },
  {
   "cell_type": "code",
   "execution_count": 65,
   "id": "a0c1cff8",
   "metadata": {},
   "outputs": [
    {
     "name": "stdout",
     "output_type": "stream",
     "text": [
      "tenten\n",
      "tentwenty\n",
      "30\n"
     ]
    }
   ],
   "source": [
    "print('ten'*2)\n",
    "print(\"ten\"+\"twenty\")\n",
    "print(10+20)"
   ]
  },
  {
   "cell_type": "code",
   "execution_count": 77,
   "id": "da518822",
   "metadata": {},
   "outputs": [
    {
     "name": "stdout",
     "output_type": "stream",
     "text": [
      "[10, 'om', 23.6, True]\n",
      "<class 'list'>\n",
      "[23.6, True]\n",
      "[10, 'om', 23.6, True, 89898]\n",
      "140197806524096\n"
     ]
    },
    {
     "data": {
      "text/plain": [
       "[10, 'om', True, 89898]"
      ]
     },
     "execution_count": 77,
     "metadata": {},
     "output_type": "execute_result"
    }
   ],
   "source": [
    "# Data Structures in Python\n",
    "# 1. List - Enclosed in square brackets, Order is Preserved, accepts duplicates, any data type(heterogenous objects), mutable, indexing and slicing are possible\n",
    "l1=[10,\"om\",23.6,True]\n",
    "print(l1)\n",
    "print(type(l1))\n",
    "print(l1[2:])\n",
    "l1.append(89898)\n",
    "print(l1)\n",
    "print(id(l1))\n",
    "l1.remove(23.6)\n",
    "l1"
   ]
  },
  {
   "cell_type": "code",
   "execution_count": 81,
   "id": "926ec241",
   "metadata": {},
   "outputs": [
    {
     "name": "stdout",
     "output_type": "stream",
     "text": [
      "(10, 'om', 23.6, True)\n",
      "<class 'tuple'>\n",
      "23.6\n"
     ]
    },
    {
     "ename": "AttributeError",
     "evalue": "'tuple' object has no attribute 'append'",
     "output_type": "error",
     "traceback": [
      "\u001b[0;31m---------------------------------------------------------------------------\u001b[0m",
      "\u001b[0;31mAttributeError\u001b[0m                            Traceback (most recent call last)",
      "Cell \u001b[0;32mIn[81], line 6\u001b[0m\n\u001b[1;32m      4\u001b[0m \u001b[38;5;28mprint\u001b[39m(\u001b[38;5;28mtype\u001b[39m(t1))\n\u001b[1;32m      5\u001b[0m \u001b[38;5;28mprint\u001b[39m(t1[\u001b[38;5;241m2\u001b[39m])\n\u001b[0;32m----> 6\u001b[0m t1\u001b[38;5;241m.\u001b[39mappend(\u001b[38;5;241m90\u001b[39m)\n",
      "\u001b[0;31mAttributeError\u001b[0m: 'tuple' object has no attribute 'append'"
     ]
    }
   ],
   "source": [
    "# 2. Tuple - Immutable, In parenthesis, eveything else same as list\n",
    "t1=(10,\"om\",23.6,True)\n",
    "print(t1)\n",
    "print(type(t1))\n",
    "print(t1[2])\n",
    "t1.append(90)\n"
   ]
  },
  {
   "cell_type": "code",
   "execution_count": 83,
   "id": "6402a44c",
   "metadata": {},
   "outputs": [
    {
     "name": "stdout",
     "output_type": "stream",
     "text": [
      "Employee Information:\n",
      "Name: John Doe\n",
      "Job Title: Senior Geologist\n",
      "Department: Geology\n",
      "Email: johndoe@email.com\n",
      "Phone: 123-456-7890\n"
     ]
    }
   ],
   "source": [
    "# Employee details\n",
    "\n",
    "name = \"John Doe\"\n",
    "\n",
    "job_title = \"Senior Geologist\"\n",
    "\n",
    "department = \"Geology\"\n",
    "\n",
    "email = \"johndoe@email.com\"\n",
    "\n",
    "phone = \"123-456-7890\"\n",
    "\n",
    "\n",
    "\n",
    "print(f\"\"\"Employee Information:\n",
    "Name: {name}\n",
    "Job Title: {job_title}\n",
    "Department: {department}\n",
    "Email: {email}\n",
    "Phone: {phone}\"\"\")"
   ]
  },
  {
   "cell_type": "code",
   "execution_count": 84,
   "id": "a565fc62",
   "metadata": {},
   "outputs": [],
   "source": [
    "employee_info=f\"Employee Information: \\nName: {name} \\nJob Title:{job_title} \\nDepartment: {department} \\nEmail:{email} \\nPhone:{phone} \""
   ]
  },
  {
   "cell_type": "code",
   "execution_count": 85,
   "id": "fe0df0fd",
   "metadata": {},
   "outputs": [
    {
     "name": "stdout",
     "output_type": "stream",
     "text": [
      "Employee Information: \n",
      "Name: John Doe \n",
      "Job Title:Senior Geologist \n",
      "Department: Geology \n",
      "Email:johndoe@email.com \n",
      "Phone:123-456-7890 \n"
     ]
    }
   ],
   "source": [
    "print(employee_info)"
   ]
  },
  {
   "cell_type": "code",
   "execution_count": 89,
   "id": "7f8eb7d3",
   "metadata": {},
   "outputs": [
    {
     "name": "stdout",
     "output_type": "stream",
     "text": [
      "{34.5, 20, 55, 'shell', 'HELLO'}\n",
      "140198070728768\n",
      "140198070728768\n"
     ]
    }
   ],
   "source": [
    "# Set - Heterogenous, Duplicates not allowed, Order is not preserved, Slicing and Indexing not possible\n",
    "\n",
    "C={20,\"HELLO\",34.5,'shell'}\n",
    "C.add(55)\n",
    "print(C)\n",
    "print(id(C))\n",
    "C.add(80)\n",
    "print(id(C))"
   ]
  },
  {
   "cell_type": "code",
   "execution_count": 92,
   "id": "a8c322a2",
   "metadata": {},
   "outputs": [
    {
     "name": "stdout",
     "output_type": "stream",
     "text": [
      "<class 'dict'>\n",
      "{'location': 'WellA', 'Start Date': '2023-1-1', 'Duration': 45, 'End': True}\n",
      "{'location': 'WellB', 'Start Date': '2023-1-1', 'Duration': 45, 'End': True}\n"
     ]
    }
   ],
   "source": [
    "d = {\"location\":\"WellA\",\"Start Date\":\"2023-1-1\",\"Duration\":45,\"End\":True}\n",
    "print(type(d))\n",
    "print(d)\n",
    "d[\"location\"] = 'WellB'\n",
    "print(d)"
   ]
  },
  {
   "cell_type": "code",
   "execution_count": 93,
   "id": "e4c6bd16",
   "metadata": {},
   "outputs": [
    {
     "name": "stdout",
     "output_type": "stream",
     "text": [
      "Is Hydrotreating Unit installed? True\n",
      "Is Thermal Cracking Unit obsolete? True\n"
     ]
    }
   ],
   "source": [
    "# List of Equipment\n",
    "refineryEquipment = [\"Crude Distillation Unit\", \"Catalytic Cracking Unit\", \"Hydrotreating Unit\", \"FCC Unit\"]\n",
    "\n",
    " \n",
    "\n",
    "# Membership Operator\n",
    "IsUnitInstalled = \"Hydrotreating Unit\" in refineryEquipment\n",
    "IsUnitObsolete = \"Thermal Cracking Unit\" not in refineryEquipment\n",
    "\n",
    " \n",
    "\n",
    "print(\"Is Hydrotreating Unit installed?\", IsUnitInstalled)\n",
    "print(\"Is Thermal Cracking Unit obsolete?\", IsUnitObsolete)"
   ]
  },
  {
   "cell_type": "code",
   "execution_count": 94,
   "id": "ab253b08",
   "metadata": {},
   "outputs": [
    {
     "name": "stdout",
     "output_type": "stream",
     "text": [
      "John Doe, Senior Geologist, Geology, johndoe@email.com, 123-456-7890\n"
     ]
    }
   ],
   "source": [
    "employees = [\n",
    "    \"John Doe, Senior Geologist, Geology, johndoe@email.com, 123-456-7890\",\n",
    "    \"Jane Smith, Drilling Engineer, Drilling, janesmith@email.com, 987-654-3210\",\n",
    "    \"Bob Johnson, Reservoir Engineer, Reservoir Engineering, bobjohnson@email.com, 456-789-0123\",\n",
    "    \"Alice Brown, Petrophysicist, Petrophysics, alicebrown@email.com, 789-012-3456\"\n",
    "]\n",
    "print(employees[0])"
   ]
  },
  {
   "cell_type": "code",
   "execution_count": 97,
   "id": "4b938f1f",
   "metadata": {},
   "outputs": [
    {
     "name": "stdout",
     "output_type": "stream",
     "text": [
      "['John Doe, Senior Geologist, Geology, johndoe@email.com, 123-456-7890', 'Jane Smith, Drilling Engineer, Drilling, janesmith@email.com, 987-654-3210', 'Bob Johnson, Reservoir Engineer, Reservoir Engineering, bobjohnson@email.com, 456-789-0123', 'Alice Brown, Petrophysicist, Petrophysics, alicebrown@email.com, 789-012-3456', 'Eva Green, Drilling Technician, Drilling, evagreen@email.com, 111-222-3333', 'Eva Green, Drilling Technician, Drilling, evagreen@email.com, 111-222-3333']\n"
     ]
    }
   ],
   "source": [
    "# Add a new employee to the end of the list.\n",
    "# new_employee = \"Eva Green, Drilling Technician, Drilling, evagreen@email.com, 111-222-3333\"\n",
    "employees.append(\"Eva Green, Drilling Technician, Drilling, evagreen@email.com, 111-222-3333\")\n",
    "print(employees)"
   ]
  },
  {
   "cell_type": "code",
   "execution_count": 98,
   "id": "c0b86741",
   "metadata": {},
   "outputs": [
    {
     "name": "stdout",
     "output_type": "stream",
     "text": [
      "In true\n"
     ]
    }
   ],
   "source": [
    "# Flow Control\n",
    "# Selection statement\n",
    "a=100\n",
    "b=70\n",
    "if(a>b):\n",
    "    print(\"In true\")\n",
    "else:\n",
    "    print(\"In False\")"
   ]
  },
  {
   "cell_type": "code",
   "execution_count": 104,
   "id": "c3cb5178",
   "metadata": {},
   "outputs": [
    {
     "name": "stdout",
     "output_type": "stream",
     "text": [
      "enter current fuel level1400\n",
      "continue fueling\n"
     ]
    }
   ],
   "source": [
    "low_fuel_thresold=1000\n",
    "\n",
    "critical_fuel_thresold=500\n",
    "\n",
    "current_fuel_level=int(input(\"enter current fuel level\"))\n",
    "if(current_fuel_level<critical_fuel_thresold):\n",
    "    print(\"Critical Fuel Level Reached. Take Immeditate Action\")\n",
    "elif(current_fuel_level<low_fuel_thresold):\n",
    "    print(\"Send_fuel_low alter\")\n",
    "else:\n",
    "    print(\"continue fueling\")                         "
   ]
  },
  {
   "cell_type": "code",
   "execution_count": 105,
   "id": "81bcd3ba",
   "metadata": {},
   "outputs": [
    {
     "name": "stdout",
     "output_type": "stream",
     "text": [
      "5\n",
      "6\n",
      "7\n",
      "8\n",
      "9\n",
      "10\n",
      "11\n"
     ]
    }
   ],
   "source": [
    "for i in range(5,12):\n",
    "    print(i)"
   ]
  },
  {
   "cell_type": "code",
   "execution_count": 106,
   "id": "ceae2ea6",
   "metadata": {},
   "outputs": [
    {
     "name": "stdout",
     "output_type": "stream",
     "text": [
      "5\n",
      "10\n",
      "15\n",
      "20\n",
      "25\n",
      "30\n",
      "35\n",
      "40\n",
      "45\n",
      "50\n",
      "55\n",
      "60\n",
      "65\n",
      "70\n",
      "75\n",
      "80\n",
      "85\n",
      "90\n",
      "95\n"
     ]
    }
   ],
   "source": [
    "for i in range(5,100,5):\n",
    "    print(i)"
   ]
  },
  {
   "cell_type": "code",
   "execution_count": 107,
   "id": "14ca0be4",
   "metadata": {},
   "outputs": [],
   "source": [
    "oil_gas_data = [\n",
    "\n",
    "    (\"Field A\", \"Texas\", 500000),\n",
    "\n",
    "    (\"Field B\", \"Alaska\", 800000),\n",
    "\n",
    "    (\"Field C\", \"North Sea\", 300000),\n",
    "\n",
    "    (\"Field D\", \"Gulf of Mexico\", 600000),\n",
    "\n",
    "]"
   ]
  },
  {
   "cell_type": "code",
   "execution_count": 109,
   "id": "f79f09b7",
   "metadata": {},
   "outputs": [],
   "source": [
    "field_name,location,reserves=zip(*oil_gas_data)"
   ]
  },
  {
   "cell_type": "code",
   "execution_count": 110,
   "id": "360d61ab",
   "metadata": {},
   "outputs": [
    {
     "name": "stdout",
     "output_type": "stream",
     "text": [
      "Field 1: Field A is located in Texas with reserves of 500000 barrels.\n",
      "Field 2: Field B is located in Alaska with reserves of 800000 barrels.\n",
      "Field 3: Field C is located in North Sea with reserves of 300000 barrels.\n",
      "Field 4: Field D is located in Gulf of Mexico with reserves of 600000 barrels.\n"
     ]
    }
   ],
   "source": [
    "for index, field_data in enumerate(oil_gas_data):\n",
    "\n",
    "    field_name, location, reserve = field_data\n",
    "\n",
    "    print(f\"Field {index+1}: {field_name} is located in {location} with reserves of {reserve} barrels.\")"
   ]
  },
  {
   "cell_type": "code",
   "execution_count": null,
   "id": "527f300e",
   "metadata": {},
   "outputs": [],
   "source": []
  }
 ],
 "metadata": {
  "kernelspec": {
   "display_name": "Python 3 (ipykernel)",
   "language": "python",
   "name": "python3"
  },
  "language_info": {
   "codemirror_mode": {
    "name": "ipython",
    "version": 3
   },
   "file_extension": ".py",
   "mimetype": "text/x-python",
   "name": "python",
   "nbconvert_exporter": "python",
   "pygments_lexer": "ipython3",
   "version": "3.11.4"
  }
 },
 "nbformat": 4,
 "nbformat_minor": 5
}
