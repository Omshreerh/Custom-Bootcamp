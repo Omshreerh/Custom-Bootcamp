{
 "cells": [
  {
   "cell_type": "code",
   "execution_count": 3,
   "id": "a75ea030",
   "metadata": {},
   "outputs": [],
   "source": [
    "import numpy as np"
   ]
  },
  {
   "cell_type": "code",
   "execution_count": 2,
   "id": "f5aac08d",
   "metadata": {},
   "outputs": [],
   "source": [
    "arr=np.array([1,34,56])"
   ]
  },
  {
   "cell_type": "code",
   "execution_count": 3,
   "id": "8bea4302",
   "metadata": {},
   "outputs": [
    {
     "data": {
      "text/plain": [
       "array([ 1, 34, 56])"
      ]
     },
     "execution_count": 3,
     "metadata": {},
     "output_type": "execute_result"
    }
   ],
   "source": [
    "arr"
   ]
  },
  {
   "cell_type": "code",
   "execution_count": 4,
   "id": "07114e02",
   "metadata": {},
   "outputs": [],
   "source": [
    "arr2=np.array([[1,34,56],[90,67,78]])"
   ]
  },
  {
   "cell_type": "code",
   "execution_count": 5,
   "id": "e9f00033",
   "metadata": {},
   "outputs": [
    {
     "data": {
      "text/plain": [
       "array([[ 1, 34, 56],\n",
       "       [90, 67, 78]])"
      ]
     },
     "execution_count": 5,
     "metadata": {},
     "output_type": "execute_result"
    }
   ],
   "source": [
    "arr2"
   ]
  },
  {
   "cell_type": "code",
   "execution_count": 6,
   "id": "4b91efda",
   "metadata": {},
   "outputs": [
    {
     "data": {
      "text/plain": [
       "1"
      ]
     },
     "execution_count": 6,
     "metadata": {},
     "output_type": "execute_result"
    }
   ],
   "source": [
    "arr.ndim"
   ]
  },
  {
   "cell_type": "code",
   "execution_count": 7,
   "id": "9ff11361",
   "metadata": {},
   "outputs": [
    {
     "data": {
      "text/plain": [
       "2"
      ]
     },
     "execution_count": 7,
     "metadata": {},
     "output_type": "execute_result"
    }
   ],
   "source": [
    "arr2.ndim"
   ]
  },
  {
   "cell_type": "code",
   "execution_count": 12,
   "id": "5198a301",
   "metadata": {},
   "outputs": [],
   "source": [
    "arr3=np.array([[[1,34,56],[90,67,78],[56,78,45]]])"
   ]
  },
  {
   "cell_type": "code",
   "execution_count": 13,
   "id": "419e3876",
   "metadata": {},
   "outputs": [
    {
     "data": {
      "text/plain": [
       "3"
      ]
     },
     "execution_count": 13,
     "metadata": {},
     "output_type": "execute_result"
    }
   ],
   "source": [
    "arr3.ndim"
   ]
  },
  {
   "cell_type": "code",
   "execution_count": 15,
   "id": "0cccb48f",
   "metadata": {},
   "outputs": [
    {
     "data": {
      "text/plain": [
       "56"
      ]
     },
     "execution_count": 15,
     "metadata": {},
     "output_type": "execute_result"
    }
   ],
   "source": [
    "arr[2]"
   ]
  },
  {
   "cell_type": "code",
   "execution_count": 19,
   "id": "b9c9a290",
   "metadata": {},
   "outputs": [
    {
     "data": {
      "text/plain": [
       "array([90, 67, 78])"
      ]
     },
     "execution_count": 19,
     "metadata": {},
     "output_type": "execute_result"
    }
   ],
   "source": [
    "arr2[1]"
   ]
  },
  {
   "cell_type": "code",
   "execution_count": 20,
   "id": "63e03f57",
   "metadata": {},
   "outputs": [
    {
     "data": {
      "text/plain": [
       "array([ 1, 34])"
      ]
     },
     "execution_count": 20,
     "metadata": {},
     "output_type": "execute_result"
    }
   ],
   "source": [
    "arr[0:2]"
   ]
  },
  {
   "cell_type": "code",
   "execution_count": 21,
   "id": "e75f0f37",
   "metadata": {},
   "outputs": [
    {
     "data": {
      "text/plain": [
       "56"
      ]
     },
     "execution_count": 21,
     "metadata": {},
     "output_type": "execute_result"
    }
   ],
   "source": [
    "arr2[0,2]"
   ]
  },
  {
   "cell_type": "code",
   "execution_count": 22,
   "id": "5f863e1d",
   "metadata": {},
   "outputs": [
    {
     "data": {
      "text/plain": [
       "array([[ 1, 34, 56],\n",
       "       [90, 67, 78]])"
      ]
     },
     "execution_count": 22,
     "metadata": {},
     "output_type": "execute_result"
    }
   ],
   "source": [
    "arr2"
   ]
  },
  {
   "cell_type": "code",
   "execution_count": 23,
   "id": "a87e25ab",
   "metadata": {},
   "outputs": [
    {
     "data": {
      "text/plain": [
       "array([[[ 1, 34, 56],\n",
       "        [90, 67, 78],\n",
       "        [56, 78, 45]]])"
      ]
     },
     "execution_count": 23,
     "metadata": {},
     "output_type": "execute_result"
    }
   ],
   "source": [
    "arr3"
   ]
  },
  {
   "cell_type": "code",
   "execution_count": 31,
   "id": "85357a44",
   "metadata": {},
   "outputs": [
    {
     "data": {
      "text/plain": [
       "78"
      ]
     },
     "execution_count": 31,
     "metadata": {},
     "output_type": "execute_result"
    }
   ],
   "source": [
    "arr3[0,1,2]"
   ]
  },
  {
   "cell_type": "code",
   "execution_count": 29,
   "id": "5b537870",
   "metadata": {},
   "outputs": [
    {
     "data": {
      "text/plain": [
       "array([[[ 1, 34, 56],\n",
       "        [90, 67, 78],\n",
       "        [56, 78, 45]]])"
      ]
     },
     "execution_count": 29,
     "metadata": {},
     "output_type": "execute_result"
    }
   ],
   "source": [
    "arr3"
   ]
  },
  {
   "cell_type": "code",
   "execution_count": 33,
   "id": "c5c08af3",
   "metadata": {},
   "outputs": [
    {
     "data": {
      "text/plain": [
       "array([67, 78])"
      ]
     },
     "execution_count": 33,
     "metadata": {},
     "output_type": "execute_result"
    }
   ],
   "source": [
    "arr3[0,1,1:]"
   ]
  },
  {
   "cell_type": "code",
   "execution_count": 4,
   "id": "8595a922",
   "metadata": {},
   "outputs": [],
   "source": [
    "temperature_data = [25.3, 26.1, 24.8, 23.5, 27.2]\n",
    "pressure_data = [101.2, 100.8, 101.5, 100.2, 101.0]\n",
    "humidity_data = [55.2, 54.8, 56.5, 53.7, 55.9]"
   ]
  },
  {
   "cell_type": "code",
   "execution_count": 5,
   "id": "475ba719",
   "metadata": {},
   "outputs": [],
   "source": [
    "data=np.concatenate((temperature_data,pressure_data,humidity_data))"
   ]
  },
  {
   "cell_type": "code",
   "execution_count": 6,
   "id": "b09dc88c",
   "metadata": {},
   "outputs": [],
   "source": [
    "# Create a numpy array of this dataset"
   ]
  },
  {
   "cell_type": "code",
   "execution_count": 7,
   "id": "1720e5f5",
   "metadata": {},
   "outputs": [],
   "source": [
    "temperature_array = np.array(temperature_data)\n",
    "\n",
    "pressure_array = np.array(pressure_data)\n",
    "\n",
    "humidity_array = np.array(humidity_data)"
   ]
  },
  {
   "cell_type": "code",
   "execution_count": 8,
   "id": "e8f456c5",
   "metadata": {},
   "outputs": [],
   "source": [
    "# Calculate the mean of each quantity"
   ]
  },
  {
   "cell_type": "code",
   "execution_count": 10,
   "id": "acfc0e66",
   "metadata": {},
   "outputs": [
    {
     "name": "stdout",
     "output_type": "stream",
     "text": [
      "25.380000000000003 100.94 55.21999999999999\n"
     ]
    }
   ],
   "source": [
    "temperature_mean = np.mean(temperature_array)\n",
    "pressure_mean = np.mean(pressure_array)\n",
    "humidity_mean = np.mean(humidity_array)\n",
    "print(temperature_mean,pressure_mean,humidity_mean)"
   ]
  },
  {
   "cell_type": "code",
   "execution_count": 11,
   "id": "ab3c87ec",
   "metadata": {},
   "outputs": [],
   "source": [
    "# Calculate the Standard Deviation"
   ]
  },
  {
   "cell_type": "code",
   "execution_count": 12,
   "id": "8e8bcd2e",
   "metadata": {},
   "outputs": [
    {
     "data": {
      "text/plain": [
       "1.2416118556135003"
      ]
     },
     "execution_count": 12,
     "metadata": {},
     "output_type": "execute_result"
    }
   ],
   "source": [
    "np.std(temperature_array)"
   ]
  },
  {
   "cell_type": "code",
   "execution_count": 13,
   "id": "ef72c066",
   "metadata": {},
   "outputs": [
    {
     "data": {
      "text/plain": [
       "0.9579144011862429"
      ]
     },
     "execution_count": 13,
     "metadata": {},
     "output_type": "execute_result"
    }
   ],
   "source": [
    "np.std(temperature_array)\n",
    "\n",
    " \n",
    "\n",
    "np.std(pressure_array)\n",
    "\n",
    " \n",
    "\n",
    "np.std(humidity_array)"
   ]
  },
  {
   "cell_type": "code",
   "execution_count": 14,
   "id": "6bd1e2bd",
   "metadata": {},
   "outputs": [],
   "source": [
    "# Calculate min and max values"
   ]
  },
  {
   "cell_type": "code",
   "execution_count": 15,
   "id": "a90e2468",
   "metadata": {},
   "outputs": [
    {
     "name": "stdout",
     "output_type": "stream",
     "text": [
      "Temperature: 27.2 23.5\n",
      "Pressure: 101.5 100.2\n",
      "Humidity: 56.5 53.7\n"
     ]
    }
   ],
   "source": [
    "print(f\"\"\"Temperature: {np.max(temperature_array)} {np.min(temperature_array)}\n",
    "Pressure: {np.max(pressure_array)} {np.min(pressure_array)}\n",
    "Humidity: {np.max(humidity_array)} {np.min(humidity_array)}\"\"\")"
   ]
  },
  {
   "cell_type": "code",
   "execution_count": null,
   "id": "93b1c993",
   "metadata": {},
   "outputs": [],
   "source": []
  }
 ],
 "metadata": {
  "kernelspec": {
   "display_name": "Python 3 (ipykernel)",
   "language": "python",
   "name": "python3"
  },
  "language_info": {
   "codemirror_mode": {
    "name": "ipython",
    "version": 3
   },
   "file_extension": ".py",
   "mimetype": "text/x-python",
   "name": "python",
   "nbconvert_exporter": "python",
   "pygments_lexer": "ipython3",
   "version": "3.11.4"
  }
 },
 "nbformat": 4,
 "nbformat_minor": 5
}
