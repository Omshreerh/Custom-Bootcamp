{
 "cells": [
  {
   "cell_type": "code",
   "execution_count": 1,
   "id": "9e6ebec5",
   "metadata": {},
   "outputs": [
    {
     "name": "stdout",
     "output_type": "stream",
     "text": [
      "The sum is :  15\n",
      "The difference is :  5\n",
      "The product is :  50\n",
      "The remainder is :  0\n"
     ]
    }
   ],
   "source": [
    "a=10\n",
    "b=5\n",
    "print(\"The sum is : \",a+b)\n",
    "print(\"The difference is : \",a-b)\n",
    "print(\"The product is : \",a*b)\n",
    "print(\"The remainder is : \",a%b)"
   ]
  },
  {
   "cell_type": "code",
   "execution_count": 2,
   "id": "8ee67911",
   "metadata": {},
   "outputs": [],
   "source": [
    "def funct1():\n",
    "    print(\"This output is from the function\")"
   ]
  },
  {
   "cell_type": "code",
   "execution_count": 3,
   "id": "536de014",
   "metadata": {},
   "outputs": [
    {
     "name": "stdout",
     "output_type": "stream",
     "text": [
      "This output is from the function\n"
     ]
    }
   ],
   "source": [
    "funct1()"
   ]
  },
  {
   "cell_type": "code",
   "execution_count": 4,
   "id": "f0bbc24c",
   "metadata": {},
   "outputs": [],
   "source": [
    "def wish(name):\n",
    "    print(\"Happy Ganesh Chaturthi\",name,\"Hope you had a good day\")"
   ]
  },
  {
   "cell_type": "code",
   "execution_count": 7,
   "id": "13a6f45f",
   "metadata": {},
   "outputs": [
    {
     "name": "stdout",
     "output_type": "stream",
     "text": [
      "Happy Ganesh Chaturthi Ganu Hope you had a good day\n"
     ]
    }
   ],
   "source": [
    "wish(\"Ganu\")"
   ]
  },
  {
   "cell_type": "code",
   "execution_count": 8,
   "id": "3efaa32b",
   "metadata": {},
   "outputs": [],
   "source": [
    "# Returning square value\n",
    "def sqrval(num):\n",
    "    print(\"The square value is \",num**2)"
   ]
  },
  {
   "cell_type": "code",
   "execution_count": 9,
   "id": "d60851ad",
   "metadata": {},
   "outputs": [
    {
     "name": "stdout",
     "output_type": "stream",
     "text": [
      "The square value is  64\n"
     ]
    }
   ],
   "source": [
    "sqrval(8)"
   ]
  },
  {
   "cell_type": "code",
   "execution_count": 10,
   "id": "925ee195",
   "metadata": {},
   "outputs": [],
   "source": [
    "def sqrval1(num):\n",
    "    return num**2"
   ]
  },
  {
   "cell_type": "code",
   "execution_count": 16,
   "id": "323b201f",
   "metadata": {},
   "outputs": [
    {
     "data": {
      "text/plain": [
       "64"
      ]
     },
     "execution_count": 16,
     "metadata": {},
     "output_type": "execute_result"
    }
   ],
   "source": [
    "sqrval1(8)"
   ]
  },
  {
   "cell_type": "code",
   "execution_count": 14,
   "id": "41539a3a",
   "metadata": {},
   "outputs": [],
   "source": [
    "# Func to find if param is idd or even\n",
    "def evenOdd(num):\n",
    "    if(num%2==0):\n",
    "        print(\"It is even\")\n",
    "    else:\n",
    "        print(\"It is odd\")"
   ]
  },
  {
   "cell_type": "code",
   "execution_count": 15,
   "id": "16c4b1e9",
   "metadata": {},
   "outputs": [
    {
     "name": "stdout",
     "output_type": "stream",
     "text": [
      "It is even\n"
     ]
    }
   ],
   "source": [
    "evenodd(12)"
   ]
  },
  {
   "cell_type": "code",
   "execution_count": 17,
   "id": "5390d4f9",
   "metadata": {},
   "outputs": [],
   "source": [
    "# Func to add two parameters\n",
    "def add(num1, num2):\n",
    "    return num1+num2"
   ]
  },
  {
   "cell_type": "code",
   "execution_count": 18,
   "id": "ae6788cf",
   "metadata": {},
   "outputs": [
    {
     "data": {
      "text/plain": [
       "11"
      ]
     },
     "execution_count": 18,
     "metadata": {},
     "output_type": "execute_result"
    }
   ],
   "source": [
    "add(5,6)"
   ]
  },
  {
   "cell_type": "code",
   "execution_count": 19,
   "id": "5e9c3f2f",
   "metadata": {},
   "outputs": [],
   "source": [
    "# Types of parameters\n",
    "# 1.Position\n",
    "# 2.Key word\n",
    "# 3.Default\n",
    "# 4.Variable Length"
   ]
  },
  {
   "cell_type": "code",
   "execution_count": 21,
   "id": "e20a315c",
   "metadata": {},
   "outputs": [
    {
     "name": "stdout",
     "output_type": "stream",
     "text": [
      "5\n",
      "-5\n",
      "10\n"
     ]
    }
   ],
   "source": [
    "def sub(a,b):\n",
    "    return a-b\n",
    "# Position\n",
    "print(sub(10,5))\n",
    "print(sub(5,10))\n",
    "# Keyword\n",
    "print(sub(a=20,b=10))"
   ]
  },
  {
   "cell_type": "code",
   "execution_count": 22,
   "id": "920887eb",
   "metadata": {},
   "outputs": [
    {
     "ename": "SyntaxError",
     "evalue": "positional argument follows keyword argument (3607451166.py, line 1)",
     "output_type": "error",
     "traceback": [
      "\u001b[0;36m  Cell \u001b[0;32mIn[22], line 1\u001b[0;36m\u001b[0m\n\u001b[0;31m    sub(a=10,7)\u001b[0m\n\u001b[0m              ^\u001b[0m\n\u001b[0;31mSyntaxError\u001b[0m\u001b[0;31m:\u001b[0m positional argument follows keyword argument\n"
     ]
    }
   ],
   "source": [
    "sub(a=10,7)"
   ]
  },
  {
   "cell_type": "code",
   "execution_count": 23,
   "id": "445e4e71",
   "metadata": {},
   "outputs": [],
   "source": [
    "# Default Argument\n",
    "def sum2(a=10,b=9):\n",
    "    return a+b\n"
   ]
  },
  {
   "cell_type": "code",
   "execution_count": 24,
   "id": "59af7cc0",
   "metadata": {},
   "outputs": [
    {
     "data": {
      "text/plain": [
       "19"
      ]
     },
     "execution_count": 24,
     "metadata": {},
     "output_type": "execute_result"
    }
   ],
   "source": [
    "sum2()"
   ]
  },
  {
   "cell_type": "code",
   "execution_count": 25,
   "id": "2b5ac161",
   "metadata": {},
   "outputs": [
    {
     "data": {
      "text/plain": [
       "9"
      ]
     },
     "execution_count": 25,
     "metadata": {},
     "output_type": "execute_result"
    }
   ],
   "source": [
    "sum2(3,6)"
   ]
  },
  {
   "cell_type": "code",
   "execution_count": 27,
   "id": "0a4b121f",
   "metadata": {},
   "outputs": [
    {
     "name": "stdout",
     "output_type": "stream",
     "text": [
      "45\n"
     ]
    }
   ],
   "source": [
    "sum=0\n",
    "for i in range(10):\n",
    "    sum=sum+i\n",
    "print(sum)"
   ]
  },
  {
   "cell_type": "code",
   "execution_count": 30,
   "id": "40ec1ed0",
   "metadata": {},
   "outputs": [],
   "source": [
    "# Variable length argument\n",
    "def add(*no):\n",
    "    sum=0\n",
    "    for i in no:\n",
    "        sum=sum+i\n",
    "    print(sum)\n",
    "\n",
    "        "
   ]
  },
  {
   "cell_type": "code",
   "execution_count": 31,
   "id": "9ce8df36",
   "metadata": {},
   "outputs": [
    {
     "name": "stdout",
     "output_type": "stream",
     "text": [
      "861.8\n"
     ]
    }
   ],
   "source": [
    "add(6,7,8,55,778,7.8)"
   ]
  },
  {
   "cell_type": "code",
   "execution_count": 37,
   "id": "4e812aaf",
   "metadata": {},
   "outputs": [],
   "source": [
    "def info(**kwargs):\n",
    "    for i,j in kwargs.items():\n",
    "        print(i,\":\",j)\n",
    "    "
   ]
  },
  {
   "cell_type": "code",
   "execution_count": 38,
   "id": "2f94bc0e",
   "metadata": {},
   "outputs": [
    {
     "name": "stdout",
     "output_type": "stream",
     "text": [
      "Name : Omshree\n",
      "Age : 22\n",
      "City : Bengaluru\n"
     ]
    }
   ],
   "source": [
    "info(Name=\"Omshree\",Age=22,City=\"Bengaluru\")"
   ]
  },
  {
   "cell_type": "code",
   "execution_count": 42,
   "id": "29f053c9",
   "metadata": {},
   "outputs": [],
   "source": [
    "def person(name, **arg):\n",
    "    print(name)\n",
    "    print(arg)"
   ]
  },
  {
   "cell_type": "code",
   "execution_count": 43,
   "id": "ad58c223",
   "metadata": {},
   "outputs": [
    {
     "name": "stdout",
     "output_type": "stream",
     "text": [
      "Omshree\n",
      "{'Age': 22, 'City': 'Bengaluru', 'Dept': 'IT'}\n"
     ]
    }
   ],
   "source": [
    "# Keyword variable length arg\n",
    "person(\"Omshree\",Age=22,City=\"Bengaluru\",Dept=\"IT\")"
   ]
  },
  {
   "cell_type": "code",
   "execution_count": 44,
   "id": "a45a61ab",
   "metadata": {},
   "outputs": [],
   "source": [
    "# Task: Oil and Gas Equipment and Drilling Site Management System\n",
    "\n",
    " \n",
    "\n",
    "# You are tasked with developing a Python program for an oil and gas company to manage their drilling equipment and drilling sites. The program should use *args and **kwargs to provide flexibility in adding and searching for equipment and sites. Here are the tasks you need to complete:\n",
    "\n",
    "# Create a Python script that defines empty lists for drilling equipment and drilling sites.\n",
    "\n",
    " \n",
    "\n",
    "# Implement a function add_equipment that takes the following parameters:\n",
    "\n",
    " \n",
    "\n",
    "# equipment_type (string): The type of equipment being added.\n",
    "\n",
    "# *args (tuple): Additional details about the equipment (e.g., model, power, capacity).\n",
    "\n",
    "# **kwargs (dictionary): Additional attributes of the equipment (e.g., vendor, power source).\n",
    "\n",
    "# The function should create a dictionary representing the equipment, including its type, details (from *args), and attributes (from **kwargs). Then, it should append this dictionary to the drilling_equipment list."
   ]
  },
  {
   "cell_type": "code",
   "execution_count": 50,
   "id": "f4f871e3",
   "metadata": {},
   "outputs": [
    {
     "data": {
      "text/plain": [
       "[{'Type': 'A', 'details': [100, 'B'], 'vendor': 'C', 'power_source': 'D'}]"
      ]
     },
     "execution_count": 50,
     "metadata": {},
     "output_type": "execute_result"
    }
   ],
   "source": [
    "drilling_equipment = [] \n",
    "\n",
    "def add_equipment(equipment_type,*args, **kwargs):\n",
    "    xyz = {}\n",
    "    xyz['Type'] = equipment_type\n",
    "    xyz[\"details\"] = []\n",
    "    for i in args:\n",
    "        xyz['details'].append(i)\n",
    "    for i,j in kwargs.items():\n",
    "        xyz[i] = j\n",
    "    drilling_equipment.append(xyz)\n",
    "\n",
    "add_equipment('A',100,'B',vendor='C',power_source='D')\n",
    "drilling_equipment"
   ]
  },
  {
   "cell_type": "code",
   "execution_count": 2,
   "id": "cd02dda6",
   "metadata": {},
   "outputs": [],
   "source": [
    "def f(arg1,arg2,arg3=10,arg4=23):\n",
    "    print(arg1,arg2,arg3,arg4)"
   ]
  },
  {
   "cell_type": "code",
   "execution_count": 3,
   "id": "2729cb93",
   "metadata": {},
   "outputs": [
    {
     "name": "stdout",
     "output_type": "stream",
     "text": [
      "10 20 30 40\n"
     ]
    }
   ],
   "source": [
    "f(10,20,30,40)"
   ]
  },
  {
   "cell_type": "code",
   "execution_count": 4,
   "id": "89469b97",
   "metadata": {},
   "outputs": [
    {
     "name": "stdout",
     "output_type": "stream",
     "text": [
      "12 23 10 23\n"
     ]
    }
   ],
   "source": [
    "f(12,23)"
   ]
  },
  {
   "cell_type": "code",
   "execution_count": 5,
   "id": "1eabdda3",
   "metadata": {},
   "outputs": [
    {
     "ename": "TypeError",
     "evalue": "f() missing 1 required positional argument: 'arg2'",
     "output_type": "error",
     "traceback": [
      "\u001b[0;31m---------------------------------------------------------------------------\u001b[0m",
      "\u001b[0;31mTypeError\u001b[0m                                 Traceback (most recent call last)",
      "Cell \u001b[0;32mIn[5], line 1\u001b[0m\n\u001b[0;32m----> 1\u001b[0m f(\u001b[38;5;241m45\u001b[39m)\n",
      "\u001b[0;31mTypeError\u001b[0m: f() missing 1 required positional argument: 'arg2'"
     ]
    }
   ],
   "source": [
    "f(45)"
   ]
  },
  {
   "cell_type": "code",
   "execution_count": null,
   "id": "da7d0330",
   "metadata": {},
   "outputs": [],
   "source": []
  }
 ],
 "metadata": {
  "kernelspec": {
   "display_name": "Python 3 (ipykernel)",
   "language": "python",
   "name": "python3"
  },
  "language_info": {
   "codemirror_mode": {
    "name": "ipython",
    "version": 3
   },
   "file_extension": ".py",
   "mimetype": "text/x-python",
   "name": "python",
   "nbconvert_exporter": "python",
   "pygments_lexer": "ipython3",
   "version": "3.11.4"
  }
 },
 "nbformat": 4,
 "nbformat_minor": 5
}
