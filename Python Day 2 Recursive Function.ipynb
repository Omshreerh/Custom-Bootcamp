{
 "cells": [
  {
   "cell_type": "code",
   "execution_count": 2,
   "id": "f1a862cb",
   "metadata": {},
   "outputs": [],
   "source": [
    "# Recursive Function - Function that calls itself"
   ]
  },
  {
   "cell_type": "code",
   "execution_count": 6,
   "id": "b210688d",
   "metadata": {},
   "outputs": [],
   "source": [
    "def fact(n):\n",
    "    if(n==0):\n",
    "        return 1\n",
    "    else:\n",
    "        return n*fact(n-1)"
   ]
  },
  {
   "cell_type": "code",
   "execution_count": 7,
   "id": "8087a110",
   "metadata": {},
   "outputs": [
    {
     "data": {
      "text/plain": [
       "120"
      ]
     },
     "execution_count": 7,
     "metadata": {},
     "output_type": "execute_result"
    }
   ],
   "source": [
    "fact(5)"
   ]
  },
  {
   "cell_type": "code",
   "execution_count": 24,
   "id": "6fe25ba3",
   "metadata": {},
   "outputs": [],
   "source": [
    "# Recursive Fib\n",
    "def fib(n):\n",
    "    if(n==1):\n",
    "        return 1\n",
    "    elif(n==0):\n",
    "        return 0\n",
    "    else:\n",
    "        a=0\n",
    "        b=1\n",
    "        c=a+b\n",
    "        print(a)\n",
    "        print(b)\n",
    "        \n",
    "        for i in range (1,n):\n",
    "            c=c+i\n",
    "            print(c)\n",
    "    "
   ]
  },
  {
   "cell_type": "code",
   "execution_count": 25,
   "id": "e1df2ebf",
   "metadata": {},
   "outputs": [
    {
     "name": "stdout",
     "output_type": "stream",
     "text": [
      "0\n",
      "1\n",
      "2\n",
      "4\n",
      "7\n",
      "11\n",
      "16\n",
      "22\n",
      "29\n"
     ]
    }
   ],
   "source": [
    "fib(8)"
   ]
  },
  {
   "cell_type": "code",
   "execution_count": 26,
   "id": "6715ba5b",
   "metadata": {},
   "outputs": [],
   "source": [
    "def fibonacci(n):\n",
    "    if n==0:\n",
    "        return 0\n",
    "    elif n==1:\n",
    "        return 1\n",
    "    else:\n",
    "        return fibonacci(n-1)+fibonacci(n-2)"
   ]
  },
  {
   "cell_type": "code",
   "execution_count": 27,
   "id": "402ca677",
   "metadata": {},
   "outputs": [],
   "source": [
    "# Decorator Function\n",
    "def div(a,b):\n",
    "    c=a/b\n",
    "    return c"
   ]
  },
  {
   "cell_type": "code",
   "execution_count": 28,
   "id": "df569e6f",
   "metadata": {},
   "outputs": [
    {
     "data": {
      "text/plain": [
       "2.0"
      ]
     },
     "execution_count": 28,
     "metadata": {},
     "output_type": "execute_result"
    }
   ],
   "source": [
    "div(10,5)"
   ]
  },
  {
   "cell_type": "code",
   "execution_count": 29,
   "id": "f82d22fb",
   "metadata": {},
   "outputs": [
    {
     "data": {
      "text/plain": [
       "0.5"
      ]
     },
     "execution_count": 29,
     "metadata": {},
     "output_type": "execute_result"
    }
   ],
   "source": [
    "div(5,10)"
   ]
  },
  {
   "cell_type": "code",
   "execution_count": 37,
   "id": "7abf0a65",
   "metadata": {},
   "outputs": [],
   "source": [
    "def div1(a,b):\n",
    "    if(a<b):\n",
    "        a,b=b,a\n",
    "        c=a/b\n",
    "        return c\n",
    "    else:\n",
    "        return a/b"
   ]
  },
  {
   "cell_type": "code",
   "execution_count": 38,
   "id": "adc1d3d6",
   "metadata": {},
   "outputs": [
    {
     "data": {
      "text/plain": [
       "2.5"
      ]
     },
     "execution_count": 38,
     "metadata": {},
     "output_type": "execute_result"
    }
   ],
   "source": [
    "div1(10,4)"
   ]
  },
  {
   "cell_type": "code",
   "execution_count": 39,
   "id": "2184f672",
   "metadata": {},
   "outputs": [
    {
     "data": {
      "text/plain": [
       "2.5"
      ]
     },
     "execution_count": 39,
     "metadata": {},
     "output_type": "execute_result"
    }
   ],
   "source": [
    "div1(4,10)"
   ]
  },
  {
   "cell_type": "code",
   "execution_count": 40,
   "id": "687d9ee9",
   "metadata": {},
   "outputs": [
    {
     "data": {
      "text/plain": [
       "2.0"
      ]
     },
     "execution_count": 40,
     "metadata": {},
     "output_type": "execute_result"
    }
   ],
   "source": [
    "def og_div(a,b):\n",
    "    c=a/b\n",
    "    return c\n",
    "\n",
    " \n",
    "\n",
    "def smart_div(func):\n",
    "    def inner(a,b):\n",
    "        if a<b:\n",
    "            a,b=b,a\n",
    "        return func(a,b)\n",
    "    return inner\n",
    "\n",
    " \n",
    "\n",
    "result=smart_div(og_div)\n",
    "\n",
    " \n",
    "\n",
    "result(10,5)"
   ]
  },
  {
   "cell_type": "code",
   "execution_count": 42,
   "id": "32219604",
   "metadata": {},
   "outputs": [],
   "source": [
    "def wish(name):\n",
    "    print(\"Good morning \",name)"
   ]
  },
  {
   "cell_type": "code",
   "execution_count": 43,
   "id": "8ace53cc",
   "metadata": {},
   "outputs": [],
   "source": [
    "def wish2(func):\n",
    "    def inner(name):\n",
    "        if name==\"Robert\":\n",
    "            print(\"Hello\",name,\"Bad Morning\")\n",
    "        else:\n",
    "            return func(name)\n",
    "    return inner"
   ]
  },
  {
   "cell_type": "code",
   "execution_count": 44,
   "id": "6566b8ce",
   "metadata": {},
   "outputs": [
    {
     "name": "stdout",
     "output_type": "stream",
     "text": [
      "Hello Robert Bad Morning\n",
      "Good morning  John\n"
     ]
    }
   ],
   "source": [
    "result = wish2(wish)\n",
    "result(\"Robert\")\n",
    "result(\"John\")"
   ]
  },
  {
   "cell_type": "code",
   "execution_count": 45,
   "id": "1d64b6c9",
   "metadata": {},
   "outputs": [],
   "source": [
    "# Task: Logging Decorator\n",
    "\n",
    " \n",
    "\n",
    "# You are tasked with creating a decorator function called log_function_call that logs when a function is called, along with its arguments, and the result of the function call. You will apply this decorator to two functions.\n",
    "\n",
    " \n",
    "\n",
    "# Implement a decorator function called log_function_call that takes a function as an argument and wraps it. Inside the decorator, log the function's name, its arguments, and the result of the function call. You can use the logging module for logging.\n",
    "\n",
    " \n",
    "\n",
    "# Create two functions:\n",
    "\n",
    " \n",
    "\n",
    "# add(a, b): This function takes two integers, a and b, as arguments and returns their sum.\n",
    "# multiply(a, b): This function takes two integers, a and b, as arguments and returns their product.\n",
    "# Apply the log_function_call decorator to both the add and multiply functions.\n",
    "\n",
    " \n",
    "\n",
    "# Call the decorated add and multiply functions with different arguments to verify that the decorator logs the function calls and results correctly."
   ]
  },
  {
   "cell_type": "code",
   "execution_count": 49,
   "id": "ce76ebec",
   "metadata": {},
   "outputs": [],
   "source": [
    "def add(a,b):\n",
    "    return a+b\n",
    "\n",
    " \n",
    "\n",
    "def multiply(a,b):\n",
    "    return a*b\n",
    "\n",
    "\n",
    "def log_function_call(func):\n",
    "\n",
    "    def inner(a,b):\n",
    "\n",
    "        print('Name: ',func.__name__,f'\\nArguments: {a} {b}',f'\\nResult: {func(a,b)}')\n",
    "\n",
    "        return \n",
    "\n",
    "    return inner"
   ]
  },
  {
   "cell_type": "code",
   "execution_count": 50,
   "id": "470314f7",
   "metadata": {},
   "outputs": [],
   "source": [
    "result_add = log_function_call(add)\n",
    "result_multiply = log_function_call(multiply)"
   ]
  },
  {
   "cell_type": "code",
   "execution_count": 51,
   "id": "43433e78",
   "metadata": {},
   "outputs": [],
   "source": [
    "# Generator Function: Uses yield keyword to yield a sequence of values one at at time instead of returning all at once"
   ]
  },
  {
   "cell_type": "code",
   "execution_count": 53,
   "id": "6704e28e",
   "metadata": {},
   "outputs": [],
   "source": [
    "def count_up_to(n):\n",
    "\n",
    "    i = 1\n",
    "\n",
    "    while i<=n:\n",
    "\n",
    "        yield i\n",
    "\n",
    "        i = i+1\n",
    "\n"
   ]
  },
  {
   "cell_type": "code",
   "execution_count": 55,
   "id": "6b2e4b15",
   "metadata": {},
   "outputs": [
    {
     "name": "stdout",
     "output_type": "stream",
     "text": [
      "1\n",
      "2\n",
      "3\n",
      "4\n",
      "5\n",
      "6\n",
      "7\n",
      "8\n",
      "9\n",
      "10\n"
     ]
    }
   ],
   "source": [
    "for i in (count_up_to(10)):\n",
    "    print(i)"
   ]
  },
  {
   "cell_type": "code",
   "execution_count": 1,
   "id": "5ebb9562",
   "metadata": {},
   "outputs": [
    {
     "data": {
      "text/plain": [
       "[1, 4, 9, 16, 25]"
      ]
     },
     "execution_count": 1,
     "metadata": {},
     "output_type": "execute_result"
    }
   ],
   "source": [
    "#list comprehension\n",
    "\n",
    "nos = [1,2,3,4,5]\n",
    "square = [x**2 for x in nos]\n",
    "square"
   ]
  },
  {
   "cell_type": "code",
   "execution_count": 2,
   "id": "0464f305",
   "metadata": {},
   "outputs": [
    {
     "data": {
      "text/plain": [
       "[2, 4, 6, 8]"
      ]
     },
     "execution_count": 2,
     "metadata": {},
     "output_type": "execute_result"
    }
   ],
   "source": [
    "nos = [1,2,3,4,5,6,7,8,9]\n",
    "even = [x for x in nos if x%2==0]\n",
    "even"
   ]
  },
  {
   "cell_type": "code",
   "execution_count": 3,
   "id": "15f8b627",
   "metadata": {},
   "outputs": [
    {
     "data": {
      "text/plain": [
       "['P', 's', 'A', 'P']"
      ]
     },
     "execution_count": 3,
     "metadata": {},
     "output_type": "execute_result"
    }
   ],
   "source": [
    "list=[\"Python\",\"sql\",\"Azure\",\"Power BI\"]\n",
    "first=[i[0] for i in list]\n",
    "first"
   ]
  },
  {
   "cell_type": "code",
   "execution_count": 6,
   "id": "0d03ed26",
   "metadata": {},
   "outputs": [
    {
     "data": {
      "text/plain": [
       "['Python', 'Sql', 'Azure', 'Power BI', 'Databricks']"
      ]
     },
     "execution_count": 6,
     "metadata": {},
     "output_type": "execute_result"
    }
   ],
   "source": [
    "list2=[\"Python\",\"sql\",\"Azure\",\"Power BI\",\"databricks\"]\n",
    "cap=[i[0].upper()+i[1:] for i in list2]\n",
    "cap"
   ]
  },
  {
   "cell_type": "code",
   "execution_count": 17,
   "id": "c59d7a55",
   "metadata": {},
   "outputs": [
    {
     "data": {
      "text/plain": [
       "[{4, 'THIS'}, {2, 'IS'}, {1, 'A'}, {6, 'SAMPLE'}, {8, 'SENTENCE'}]"
      ]
     },
     "execution_count": 17,
     "metadata": {},
     "output_type": "execute_result"
    }
   ],
   "source": [
    "words=\"This is a sample sentence\"\n",
    "res=[{i.upper(),len(i)} for i in words.split()]\n",
    "res"
   ]
  },
  {
   "cell_type": "code",
   "execution_count": 18,
   "id": "e1cdbd43",
   "metadata": {},
   "outputs": [],
   "source": [
    "# Lambda Function - Anonymous function\n"
   ]
  },
  {
   "cell_type": "code",
   "execution_count": 20,
   "id": "10de3648",
   "metadata": {},
   "outputs": [
    {
     "data": {
      "text/plain": [
       "<function __main__.<lambda>(i)>"
      ]
     },
     "execution_count": 20,
     "metadata": {},
     "output_type": "execute_result"
    }
   ],
   "source": [
    "lambda i:i*i"
   ]
  },
  {
   "cell_type": "code",
   "execution_count": 22,
   "id": "e2e8ee18",
   "metadata": {},
   "outputs": [
    {
     "data": {
      "text/plain": [
       "9"
      ]
     },
     "execution_count": 22,
     "metadata": {},
     "output_type": "execute_result"
    }
   ],
   "source": [
    "f = lambda x:x**2\n",
    "f(3)"
   ]
  },
  {
   "cell_type": "code",
   "execution_count": 23,
   "id": "96e2cd6e",
   "metadata": {},
   "outputs": [],
   "source": [
    "s = lambda a,b:a+b"
   ]
  },
  {
   "cell_type": "code",
   "execution_count": 26,
   "id": "088ac543",
   "metadata": {},
   "outputs": [
    {
     "name": "stdout",
     "output_type": "stream",
     "text": [
      "The sum of the numbers are: 30\n"
     ]
    }
   ],
   "source": [
    "print(\"The sum of the numbers are:\",s(10,20))"
   ]
  },
  {
   "cell_type": "code",
   "execution_count": 27,
   "id": "af4001c8",
   "metadata": {},
   "outputs": [],
   "source": [
    "largest = lambda a,b: a if a>b else b"
   ]
  },
  {
   "cell_type": "code",
   "execution_count": 29,
   "id": "214cd21d",
   "metadata": {},
   "outputs": [
    {
     "name": "stdout",
     "output_type": "stream",
     "text": [
      "The larger number between 30 and 40 is 40\n"
     ]
    }
   ],
   "source": [
    "print(\"The larger number between 30 and 40 is\", largest(30,40))"
   ]
  },
  {
   "cell_type": "code",
   "execution_count": 30,
   "id": "89aa9072",
   "metadata": {},
   "outputs": [],
   "source": [
    "# Filter Map"
   ]
  },
  {
   "cell_type": "code",
   "execution_count": 45,
   "id": "20436649",
   "metadata": {},
   "outputs": [],
   "source": [
    "def evenodd(x):\n",
    "    if x%2==0:\n",
    "        return True\n",
    "    else:\n",
    "        return False"
   ]
  },
  {
   "cell_type": "code",
   "execution_count": 46,
   "id": "1891ef77",
   "metadata": {},
   "outputs": [],
   "source": [
    "l=[1,4,5,78,97]"
   ]
  },
  {
   "cell_type": "code",
   "execution_count": 49,
   "id": "ee907d19",
   "metadata": {},
   "outputs": [
    {
     "data": {
      "text/plain": [
       "[4, 78]"
      ]
     },
     "execution_count": 49,
     "metadata": {},
     "output_type": "execute_result"
    }
   ],
   "source": [
    "del list\n",
    "l2 = list(filter(evenodd,l))\n",
    "l2"
   ]
  },
  {
   "cell_type": "code",
   "execution_count": 51,
   "id": "ed612cf5",
   "metadata": {},
   "outputs": [
    {
     "name": "stdout",
     "output_type": "stream",
     "text": [
      "[2, 4, 6]\n"
     ]
    }
   ],
   "source": [
    "l = [1,2,3,4,5,6]\n",
    "l2 = list(filter(lambda x:x%2==0,l))\n",
    "print(l2)"
   ]
  },
  {
   "cell_type": "code",
   "execution_count": 61,
   "id": "a170960d",
   "metadata": {},
   "outputs": [],
   "source": [
    "words=['hello','world','lambda','exercise']\n",
    "newword=list(map(lambda x:x.upper(),words))"
   ]
  },
  {
   "cell_type": "code",
   "execution_count": 62,
   "id": "b843214c",
   "metadata": {},
   "outputs": [
    {
     "data": {
      "text/plain": [
       "['HELLO', 'WORLD', 'LAMBDA', 'EXERCISE']"
      ]
     },
     "execution_count": 62,
     "metadata": {},
     "output_type": "execute_result"
    }
   ],
   "source": [
    "newword"
   ]
  },
  {
   "cell_type": "code",
   "execution_count": 65,
   "id": "0a4c9f36",
   "metadata": {},
   "outputs": [],
   "source": [
    "people=[{'Name':'Alice','age':22},\n",
    "        {'Name':'Bob','age':33},\n",
    "        {'Name':'Charlie','age':67},\n",
    "        {'Name':'Sod','age':76}\n",
    "       ]"
   ]
  },
  {
   "cell_type": "code",
   "execution_count": 66,
   "id": "63fe8977",
   "metadata": {},
   "outputs": [],
   "source": [
    "newpeople=sorted(people,key = lambda x:x['age'])"
   ]
  },
  {
   "cell_type": "code",
   "execution_count": 67,
   "id": "baf685c6",
   "metadata": {},
   "outputs": [
    {
     "data": {
      "text/plain": [
       "[{'Name': 'Alice', 'age': 22},\n",
       " {'Name': 'Bob', 'age': 33},\n",
       " {'Name': 'Charlie', 'age': 67},\n",
       " {'Name': 'Sod', 'age': 76}]"
      ]
     },
     "execution_count": 67,
     "metadata": {},
     "output_type": "execute_result"
    }
   ],
   "source": [
    "newpeople"
   ]
  },
  {
   "cell_type": "code",
   "execution_count": 68,
   "id": "03622ee1",
   "metadata": {},
   "outputs": [
    {
     "name": "stdout",
     "output_type": "stream",
     "text": [
      "i5, 16Gb\n",
      "<class '__main__.computer'>\n"
     ]
    }
   ],
   "source": [
    "class computer:\n",
    "    def config(self):\n",
    "        print(\"i5, 16Gb\")\n",
    "\n",
    " \n",
    "\n",
    "comp1 = computer()\n",
    "comp1.config()\n",
    "print(type(comp1))"
   ]
  },
  {
   "cell_type": "code",
   "execution_count": null,
   "id": "a0fc35e2",
   "metadata": {},
   "outputs": [],
   "source": []
  }
 ],
 "metadata": {
  "kernelspec": {
   "display_name": "Python 3 (ipykernel)",
   "language": "python",
   "name": "python3"
  },
  "language_info": {
   "codemirror_mode": {
    "name": "ipython",
    "version": 3
   },
   "file_extension": ".py",
   "mimetype": "text/x-python",
   "name": "python",
   "nbconvert_exporter": "python",
   "pygments_lexer": "ipython3",
   "version": "3.11.4"
  }
 },
 "nbformat": 4,
 "nbformat_minor": 5
}
